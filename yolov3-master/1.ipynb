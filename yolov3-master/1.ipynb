{
 "cells": [
  {
   "cell_type": "code",
   "execution_count": null,
   "metadata": {},
   "outputs": [],
   "source": [
    "import nibabel as nib\n",
    "\n",
    "# Load the NIfTI file\n",
    "img = nib.load('/Users/shane/Downloads/Processed_data_nii/BMC/Case00_Segmentation.nii ')\n",
    "\n",
    "# Get the header object\n",
    "hdr = img.header\n",
    "\n",
    "# Print the original metadata\n",
    "print(hdr.get_metadata())\n",
    "\n",
    "# Update a label in the metadata\n",
    "hdr['descrip'] = 'This is the new label'\n",
    "\n",
    "# Save the modified metadata to the same file\n",
    "nib.save(img, '/path/to/your/file.nii.gz')\n"
   ]
  },
  {
   "cell_type": "code",
   "execution_count": null,
   "metadata": {},
   "outputs": [],
   "source": [
    "import nibabel as nib\n",
    "import numpy as np\n",
    "\n",
    "# Load NIfTI file\n",
    "img = nib.load('/Users/shane/Downloads/Processed_data_nii/BMC/Case00_Segmentation.nii')\n",
    "\n",
    "# Get image data\n",
    "img_data = img.get_fdata()\n",
    "\n",
    "# Change all elements with value 2 to 1\n",
    "img_data[img_data == 2] = 1\n",
    "\n",
    "# Create new NIfTI image with modified data and metadata\n",
    "img_new = nib.Nifti1Image(img_data, img.affine, img.header)\n",
    "\n",
    "# Save modified NIfTI image to original file\n",
    "nib.save(img_new, '/Users/shane/Downloads/Processed_data_nii/BMC/Case00_Segmentation2.nii')\n"
   ]
  }
 ],
 "metadata": {
  "kernelspec": {
   "display_name": "py38_torch",
   "language": "python",
   "name": "python3"
  },
  "language_info": {
   "name": "python",
   "version": "3.8.12"
  },
  "orig_nbformat": 4
 },
 "nbformat": 4,
 "nbformat_minor": 2
}
